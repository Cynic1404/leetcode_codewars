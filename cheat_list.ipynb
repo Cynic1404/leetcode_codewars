{
 "cells": [
  {
   "cell_type": "code",
   "outputs": [
    {
     "data": {
      "text/plain": "(10, 5)"
     },
     "execution_count": 3,
     "metadata": {},
     "output_type": "execute_result"
    }
   ],
   "source": [
    "#Assignment \n",
    "a = 5\n",
    "b = 10\n",
    "a, b = b, a\n",
    "a,b"
   ],
   "metadata": {
    "collapsed": true,
    "ExecuteTime": {
     "end_time": "2024-05-30T22:06:12.543115Z",
     "start_time": "2024-05-30T22:06:12.539901Z"
    }
   },
   "id": "initial_id",
   "execution_count": 3
  },
  {
   "cell_type": "code",
   "outputs": [
    {
     "data": {
      "text/plain": "(1, 2, [3, 4, 5])"
     },
     "execution_count": 5,
     "metadata": {},
     "output_type": "execute_result"
    }
   ],
   "source": [
    "tup = (1, 2, 3, 4, 5)\n",
    "a, b, *other = tup\n",
    "a,b,other"
   ],
   "metadata": {
    "collapsed": false,
    "ExecuteTime": {
     "end_time": "2024-05-30T22:07:06.207142Z",
     "start_time": "2024-05-30T22:07:06.200043Z"
    }
   },
   "id": "2c213409cb1ead56",
   "execution_count": 5
  },
  {
   "cell_type": "code",
   "outputs": [
    {
     "data": {
      "text/plain": "([1, 2, 3], 4, 5)"
     },
     "execution_count": 7,
     "metadata": {},
     "output_type": "execute_result"
    }
   ],
   "source": [
    "*other, a, b, = tup\n",
    "other, a, b"
   ],
   "metadata": {
    "collapsed": false,
    "ExecuteTime": {
     "end_time": "2024-05-30T22:07:36.743628Z",
     "start_time": "2024-05-30T22:07:36.740054Z"
    }
   },
   "id": "fde0fe7310c5949b",
   "execution_count": 7
  },
  {
   "cell_type": "markdown",
   "source": [],
   "metadata": {
    "collapsed": false
   },
   "id": "c534d299c66629c9"
  },
  {
   "cell_type": "code",
   "outputs": [],
   "source": [
    "#lambda"
   ],
   "metadata": {
    "collapsed": false
   },
   "id": "fc59b2c91393cb92"
  },
  {
   "cell_type": "code",
   "outputs": [
    {
     "name": "stdout",
     "output_type": "stream",
     "text": [
      "15\n"
     ]
    }
   ],
   "source": [
    "#lambda arguments : expression\n",
    "x = lambda var: var + 10\n",
    "print(x(5))"
   ],
   "metadata": {
    "collapsed": false,
    "ExecuteTime": {
     "end_time": "2024-05-30T22:16:33.792986Z",
     "start_time": "2024-05-30T22:16:33.785945Z"
    }
   },
   "id": "33503ad3d9fcae5d",
   "execution_count": 38
  },
  {
   "cell_type": "code",
   "outputs": [
    {
     "name": "stdout",
     "output_type": "stream",
     "text": [
      "3\n"
     ]
    }
   ],
   "source": [
    "print((lambda x, y: x+y)(1,2))"
   ],
   "metadata": {
    "collapsed": false,
    "ExecuteTime": {
     "end_time": "2024-05-30T22:16:28.815754Z",
     "start_time": "2024-05-30T22:16:28.808093Z"
    }
   },
   "id": "f4d1b029912b4fc0",
   "execution_count": 37
  },
  {
   "cell_type": "code",
   "outputs": [
    {
     "name": "stdout",
     "output_type": "stream",
     "text": [
      "10\n"
     ]
    }
   ],
   "source": [
    "# Can be used like a standard function\n",
    "b = lambda x: 4+x\n",
    "print(b(6))"
   ],
   "metadata": {
    "collapsed": false,
    "ExecuteTime": {
     "end_time": "2024-05-30T22:16:15.026636Z",
     "start_time": "2024-05-30T22:16:15.017318Z"
    }
   },
   "id": "58a1bf6856a2a111",
   "execution_count": 36
  },
  {
   "cell_type": "code",
   "outputs": [],
   "source": [
    "#lists"
   ],
   "metadata": {
    "collapsed": false,
    "ExecuteTime": {
     "end_time": "2024-05-30T22:11:25.805669Z",
     "start_time": "2024-05-30T22:11:25.793570Z"
    }
   },
   "id": "53f8521e10555655",
   "execution_count": 15
  },
  {
   "cell_type": "code",
   "outputs": [
    {
     "name": "stdout",
     "output_type": "stream",
     "text": [
      "All larger than 5\n"
     ]
    }
   ],
   "source": [
    "nums = [55, 44, 33, 22, 11]\n",
    "if all([i > 5 for i in nums]):\n",
    "    print(\"All larger than 5\")"
   ],
   "metadata": {
    "collapsed": false,
    "ExecuteTime": {
     "end_time": "2024-05-30T22:13:51.014847Z",
     "start_time": "2024-05-30T22:13:51.007993Z"
    }
   },
   "id": "8ce6764105400106",
   "execution_count": 29
  },
  {
   "cell_type": "code",
   "outputs": [
    {
     "name": "stdout",
     "output_type": "stream",
     "text": [
      "At least one is even\n"
     ]
    }
   ],
   "source": [
    "if any([i % 2 == 0 for i in nums]):\n",
    "    print(\"At least one is even\")"
   ],
   "metadata": {
    "collapsed": false,
    "ExecuteTime": {
     "end_time": "2024-05-30T22:11:40.683914Z",
     "start_time": "2024-05-30T22:11:40.671485Z"
    }
   },
   "id": "34ad089e6f880708",
   "execution_count": 17
  },
  {
   "cell_type": "code",
   "outputs": [
    {
     "name": "stdout",
     "output_type": "stream",
     "text": [
      "0 55\n",
      "1 44\n",
      "2 33\n",
      "3 22\n",
      "4 11\n"
     ]
    }
   ],
   "source": [
    "for i, m in enumerate(nums):\n",
    "    print(i,m)"
   ],
   "metadata": {
    "collapsed": false,
    "ExecuteTime": {
     "end_time": "2024-05-30T22:11:47.504442Z",
     "start_time": "2024-05-30T22:11:47.496593Z"
    }
   },
   "id": "eeffe69c5593a91e",
   "execution_count": 18
  },
  {
   "cell_type": "code",
   "outputs": [
    {
     "name": "stdout",
     "output_type": "stream",
     "text": [
      "[1, 2, 3, 4, 5]\n"
     ]
    }
   ],
   "source": [
    "a = [1,2,3]\n",
    "b=[4,5]\n",
    "a.extend(b)\n",
    "print(a)"
   ],
   "metadata": {
    "collapsed": false,
    "ExecuteTime": {
     "end_time": "2024-05-30T22:12:28.878045Z",
     "start_time": "2024-05-30T22:12:28.869810Z"
    }
   },
   "id": "b71f794b7cd59c73",
   "execution_count": 22
  },
  {
   "cell_type": "code",
   "outputs": [],
   "source": [
    "#map/filter"
   ],
   "metadata": {
    "collapsed": false,
    "ExecuteTime": {
     "end_time": "2024-05-30T22:12:41.416890Z",
     "start_time": "2024-05-30T22:12:41.405827Z"
    }
   },
   "id": "3ea1c161b7dfac83",
   "execution_count": 23
  },
  {
   "cell_type": "code",
   "outputs": [
    {
     "name": "stdout",
     "output_type": "stream",
     "text": [
      "[16, 27, 38, 49, 60]\n"
     ]
    }
   ],
   "source": [
    "def add_five(x):\n",
    "    return x + 5\n",
    "nums_lambda = [11, 22, 33, 44, 55]\n",
    "\n",
    "print(list(map(add_five, nums_lambda)))"
   ],
   "metadata": {
    "collapsed": false,
    "ExecuteTime": {
     "end_time": "2024-05-30T22:15:48.463736Z",
     "start_time": "2024-05-30T22:15:48.450040Z"
    }
   },
   "id": "2dc688fd7432f79c",
   "execution_count": 34
  },
  {
   "cell_type": "code",
   "outputs": [
    {
     "name": "stdout",
     "output_type": "stream",
     "text": [
      "[44, 55]\n"
     ]
    }
   ],
   "source": [
    "print(list(filter(lambda x: x > 33, nums_lambda)))"
   ],
   "metadata": {
    "collapsed": false,
    "ExecuteTime": {
     "end_time": "2024-05-30T22:15:57.357765Z",
     "start_time": "2024-05-30T22:15:57.351692Z"
    }
   },
   "id": "cad55bb134fa23a1",
   "execution_count": 35
  },
  {
   "cell_type": "code",
   "outputs": [],
   "source": [
    "#### strings"
   ],
   "metadata": {
    "collapsed": false,
    "ExecuteTime": {
     "end_time": "2024-05-30T22:17:20.553570Z",
     "start_time": "2024-05-30T22:17:20.542604Z"
    }
   },
   "id": "72f5232bbc151034",
   "execution_count": 39
  },
  {
   "cell_type": "code",
   "outputs": [
    {
     "data": {
      "text/plain": "'spam, eggs, ham'"
     },
     "execution_count": 45,
     "metadata": {},
     "output_type": "execute_result"
    }
   ],
   "source": [
    "\", \".join([\"spam\", \"eggs\", \"ham\"])"
   ],
   "metadata": {
    "collapsed": false,
    "ExecuteTime": {
     "end_time": "2024-05-30T22:18:23.891973Z",
     "start_time": "2024-05-30T22:18:23.885970Z"
    }
   },
   "id": "f9bdee54fd8f3fdd",
   "execution_count": 45
  },
  {
   "cell_type": "code",
   "outputs": [
    {
     "data": {
      "text/plain": "'Hello world'"
     },
     "execution_count": 44,
     "metadata": {},
     "output_type": "execute_result"
    }
   ],
   "source": [
    "\"Hello ME\".replace(\"ME\", \"world\")"
   ],
   "metadata": {
    "collapsed": false,
    "ExecuteTime": {
     "end_time": "2024-05-30T22:18:13.408851Z",
     "start_time": "2024-05-30T22:18:13.402471Z"
    }
   },
   "id": "da480d7835bbf486",
   "execution_count": 44
  },
  {
   "cell_type": "code",
   "outputs": [
    {
     "data": {
      "text/plain": "True"
     },
     "execution_count": 47,
     "metadata": {},
     "output_type": "execute_result"
    }
   ],
   "source": [
    "\"This is a sentence.\".startswith(\"This\")"
   ],
   "metadata": {
    "collapsed": false,
    "ExecuteTime": {
     "end_time": "2024-05-30T22:18:41.295454Z",
     "start_time": "2024-05-30T22:18:41.281887Z"
    }
   },
   "id": "9ceab4ed2168520e",
   "execution_count": 47
  },
  {
   "cell_type": "code",
   "outputs": [
    {
     "data": {
      "text/plain": "True"
     },
     "execution_count": 48,
     "metadata": {},
     "output_type": "execute_result"
    }
   ],
   "source": [
    "\"This is a sentence.\".endswith(\"sentence.\")"
   ],
   "metadata": {
    "collapsed": false,
    "ExecuteTime": {
     "end_time": "2024-05-30T22:18:50.708221Z",
     "start_time": "2024-05-30T22:18:50.698989Z"
    }
   },
   "id": "8e0b3227d0abb3c5",
   "execution_count": 48
  },
  {
   "cell_type": "code",
   "outputs": [
    {
     "data": {
      "text/plain": "'THIS IS A SENTENCE.'"
     },
     "execution_count": 49,
     "metadata": {},
     "output_type": "execute_result"
    }
   ],
   "source": [
    "\"This is a sentence.\".upper()"
   ],
   "metadata": {
    "collapsed": false,
    "ExecuteTime": {
     "end_time": "2024-05-30T22:18:58.490189Z",
     "start_time": "2024-05-30T22:18:58.481343Z"
    }
   },
   "id": "ed20fde56202d9f2",
   "execution_count": 49
  },
  {
   "cell_type": "code",
   "outputs": [
    {
     "data": {
      "text/plain": "'an all caps sentence'"
     },
     "execution_count": 50,
     "metadata": {},
     "output_type": "execute_result"
    }
   ],
   "source": [
    "\"AN ALL CAPS SENTENCE\".lower()"
   ],
   "metadata": {
    "collapsed": false,
    "ExecuteTime": {
     "end_time": "2024-05-30T22:19:09.403171Z",
     "start_time": "2024-05-30T22:19:09.393270Z"
    }
   },
   "id": "99af2e60cfa74efd",
   "execution_count": 50
  },
  {
   "cell_type": "code",
   "outputs": [
    {
     "data": {
      "text/plain": "['spam', 'eggs', 'ham']"
     },
     "execution_count": 51,
     "metadata": {},
     "output_type": "execute_result"
    }
   ],
   "source": [
    "\"spam, eggs, ham\".split(\", \")"
   ],
   "metadata": {
    "collapsed": false,
    "ExecuteTime": {
     "end_time": "2024-05-30T22:19:16.983430Z",
     "start_time": "2024-05-30T22:19:16.973665Z"
    }
   },
   "id": "9a30bd8d3d2b11a8",
   "execution_count": 51
  },
  {
   "cell_type": "code",
   "outputs": [],
   "source": [
    "###### prints"
   ],
   "metadata": {
    "collapsed": false,
    "ExecuteTime": {
     "end_time": "2024-05-30T22:19:52.968869Z",
     "start_time": "2024-05-30T22:19:52.961887Z"
    }
   },
   "id": "3eb19dc7995d9fd6",
   "execution_count": 52
  },
  {
   "cell_type": "code",
   "outputs": [
    {
     "name": "stdout",
     "output_type": "stream",
     "text": [
      "k g f\n"
     ]
    }
   ],
   "source": [
    "print(*'kgf')"
   ],
   "metadata": {
    "collapsed": false,
    "ExecuteTime": {
     "end_time": "2024-05-30T22:20:00.638783Z",
     "start_time": "2024-05-30T22:20:00.633038Z"
    }
   },
   "id": "e1e4602fd4237f4c",
   "execution_count": 53
  },
  {
   "cell_type": "code",
   "outputs": [
    {
     "name": "stdout",
     "output_type": "stream",
     "text": [
      "1 2 3 4 5\n"
     ]
    }
   ],
   "source": [
    "print(*[1, 2, 3, 4, 5])"
   ],
   "metadata": {
    "collapsed": false,
    "ExecuteTime": {
     "end_time": "2024-05-30T22:20:07.168373Z",
     "start_time": "2024-05-30T22:20:07.155939Z"
    }
   },
   "id": "128bdfd5e6ab7c91",
   "execution_count": 54
  },
  {
   "cell_type": "code",
   "outputs": [
    {
     "name": "stdout",
     "output_type": "stream",
     "text": [
      "1\n",
      "2\n",
      "3\n",
      "4\n",
      "5\n"
     ]
    }
   ],
   "source": [
    "print(*[1, 2, 3, 4, 5], sep='\\n')"
   ],
   "metadata": {
    "collapsed": false,
    "ExecuteTime": {
     "end_time": "2024-05-30T22:20:12.546605Z",
     "start_time": "2024-05-30T22:20:12.535298Z"
    }
   },
   "id": "461eb81eccbca0b8",
   "execution_count": 55
  },
  {
   "cell_type": "code",
   "outputs": [
    {
     "name": "stdout",
     "output_type": "stream",
     "text": [
      "2 1\n",
      "4 3\n",
      "6 5\n"
     ]
    }
   ],
   "source": [
    "#### itreation\n",
    "a = [[1, 2], [3, 4], [5, 6]]\n",
    "for v, c in a:\n",
    "    print(c, v)"
   ],
   "metadata": {
    "collapsed": false,
    "ExecuteTime": {
     "end_time": "2024-05-30T22:20:41.294478Z",
     "start_time": "2024-05-30T22:20:41.281477Z"
    }
   },
   "id": "a5d8cda5d383bd93",
   "execution_count": 57
  },
  {
   "cell_type": "code",
   "outputs": [
    {
     "name": "stdout",
     "output_type": "stream",
     "text": [
      "10\n"
     ]
    }
   ],
   "source": [
    "############ unpacking\n",
    "\n",
    "def three(a,b,c):\n",
    "    return a*b+c\n",
    "\n",
    "z = [2,3,4]\n",
    "print(three(*z))"
   ],
   "metadata": {
    "collapsed": false,
    "ExecuteTime": {
     "end_time": "2024-06-04T00:26:46.336216Z",
     "start_time": "2024-06-04T00:26:46.307751Z"
    }
   },
   "id": "90af0cc7cd9cc406",
   "execution_count": 82
  },
  {
   "cell_type": "code",
   "outputs": [
    {
     "name": "stdout",
     "output_type": "stream",
     "text": [
      "19\n"
     ]
    }
   ],
   "source": [
    "#dictinary unpacking with **\n",
    "d = {\"c\":4, \"a\":5, \"b\":3}\n",
    "print(three(**d))"
   ],
   "metadata": {
    "collapsed": false,
    "ExecuteTime": {
     "end_time": "2024-06-04T00:26:43.682942Z",
     "start_time": "2024-06-04T00:26:43.673349Z"
    }
   },
   "id": "6f3524e77a27a65e",
   "execution_count": 81
  },
  {
   "cell_type": "code",
   "outputs": [
    {
     "name": "stdout",
     "output_type": "stream",
     "text": [
      "Positional: (100, 50, 25)\n"
     ]
    }
   ],
   "source": [
    "def f(*args):\n",
    "    print(\"Positional:\", args)\n",
    "f(100, 50, 25)"
   ],
   "metadata": {
    "collapsed": false,
    "ExecuteTime": {
     "end_time": "2024-05-30T22:21:29.733632Z",
     "start_time": "2024-05-30T22:21:29.720004Z"
    }
   },
   "id": "5ceaafa31b3c83ca",
   "execution_count": 59
  },
  {
   "cell_type": "code",
   "outputs": [
    {
     "name": "stdout",
     "output_type": "stream",
     "text": [
      "Named: {'galleons': 100, 'sickles': 50, 'knuts': 25}\n"
     ]
    }
   ],
   "source": [
    "def f(**kwargs):\n",
    "    print(\"Named:\", kwargs)\n",
    "f(galleons=100, sickles=50, knuts=25)"
   ],
   "metadata": {
    "collapsed": false,
    "ExecuteTime": {
     "end_time": "2024-05-30T22:21:47.264090Z",
     "start_time": "2024-05-30T22:21:47.254808Z"
    }
   },
   "id": "31ba91677a4eb660",
   "execution_count": 60
  },
  {
   "cell_type": "code",
   "outputs": [
    {
     "name": "stdout",
     "output_type": "stream",
     "text": [
      "args: (1, 2, 3)\n",
      "Named: {'first': '1111', 'second': '222', 'third': '333'}\n"
     ]
    }
   ],
   "source": [
    "def f(*args, **kwargs):\n",
    "    print(\"args:\", args)\n",
    "    print(\"Named:\", kwargs)\n",
    "    \n",
    "f(1,2,3,first=\"1111\", second=\"222\", third=\"333\")"
   ],
   "metadata": {
    "collapsed": false,
    "ExecuteTime": {
     "end_time": "2024-06-04T00:28:52.078148Z",
     "start_time": "2024-06-04T00:28:52.060254Z"
    }
   },
   "id": "e27202c88e0391af",
   "execution_count": 89
  },
  {
   "cell_type": "code",
   "outputs": [
    {
     "name": "stdout",
     "output_type": "stream",
     "text": [
      "{'Bob': 'Chemistry', 'John': 'Chemistry', 'Carry': 'Chemistry'}\n"
     ]
    }
   ],
   "source": [
    "###dict_comprehension\n",
    "\n",
    "students = [\"Bob\", \"John\", \"Carry\"]\n",
    "students_dict = {student: \"Chemistry\" for student in students}\n",
    "print(students_dict)"
   ],
   "metadata": {
    "collapsed": false,
    "ExecuteTime": {
     "end_time": "2024-06-04T00:27:45.348013Z",
     "start_time": "2024-06-04T00:27:45.344017Z"
    }
   },
   "id": "414ff1716ec45f71",
   "execution_count": 85
  },
  {
   "cell_type": "code",
   "outputs": [
    {
     "data": {
      "text/plain": "35"
     },
     "execution_count": 73,
     "metadata": {},
     "output_type": "execute_result"
    }
   ],
   "source": [
    "######## setters and getters\n",
    "\n",
    "class Human:\n",
    "    def __init__(self, name, age):\n",
    "        self.name = name\n",
    "        self.age = age\n",
    "\n",
    "    @property\n",
    "    def age(self):\n",
    "        return self._age\n",
    "\n",
    "    @age.setter\n",
    "    def age(self, age):\n",
    "        if age > 115:\n",
    "            raise ValueError\n",
    "        self._age = age\n",
    "\n",
    "\n",
    "bob = Human(\"Bob\", 34)\n",
    "\n",
    "bob.age = 35\n",
    "bob.age\n"
   ],
   "metadata": {
    "collapsed": false,
    "ExecuteTime": {
     "end_time": "2024-05-30T22:27:32.192874Z",
     "start_time": "2024-05-30T22:27:32.185118Z"
    }
   },
   "id": "2ffb75b0a2db5c65",
   "execution_count": 73
  },
  {
   "cell_type": "code",
   "outputs": [],
   "source": [],
   "metadata": {
    "collapsed": false
   },
   "id": "c6a8fc9af7e1811e"
  }
 ],
 "metadata": {
  "kernelspec": {
   "display_name": "Python 3",
   "language": "python",
   "name": "python3"
  },
  "language_info": {
   "codemirror_mode": {
    "name": "ipython",
    "version": 2
   },
   "file_extension": ".py",
   "mimetype": "text/x-python",
   "name": "python",
   "nbconvert_exporter": "python",
   "pygments_lexer": "ipython2",
   "version": "2.7.6"
  }
 },
 "nbformat": 4,
 "nbformat_minor": 5
}
